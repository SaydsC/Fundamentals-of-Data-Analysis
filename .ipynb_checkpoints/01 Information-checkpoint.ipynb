{
 "cells": [
  {
   "cell_type": "markdown",
   "id": "a7d64e8e",
   "metadata": {},
   "source": [
    "### Note book for first practical on Information\n",
    "#### Sadie Concannon"
   ]
  },
  {
   "cell_type": "code",
   "execution_count": 12,
   "id": "f91cf95d",
   "metadata": {},
   "outputs": [
    {
     "name": "stdout",
     "output_type": "stream",
     "text": [
      "alice was beginning to get very tired of sitting by her sister on the bank and of having nothing to do once or twice she had peeped into the book her sister was reading but it had no pictures or conversations in it and what is the use of a book thought alice without pictures or conversations\n"
     ]
    }
   ],
   "source": [
    "#Note some notes and code are taken directly from lecture notes\n",
    "\n",
    "# Import internet request to access Alice in Wonderland\n",
    "import urllib.request\n",
    "\n",
    "# The URL of a text version of Alice in Wonderland\n",
    "book_url = 'https://www.gutenberg.org/files/11/11-0.txt'\n",
    "\n",
    "# Getting the book\n",
    "book = list(urllib.request.urlopen(book_url))\n",
    "\n",
    "# Decode the lines and strip line endings\n",
    "book = [line.decode('utf-8-sig').strip() for line in book]\n",
    "\n",
    "# Get a sample paragraph - taken from lecture notes\n",
    "paragraph = ' '.join(book[58:63])\n",
    "\n",
    "# Let's lower-case it\n",
    "alice = paragraph.lower()\n",
    "\n",
    "# List all letters and a space\n",
    "chars = 'abcdefghijklmnopqrstuvwxyz '\n",
    "\n",
    "# And strip anything that is not a letter or space\n",
    "alice = ''.join([c for c in alice if c in chars])\n",
    "\n",
    "# Show the paragraph now\n",
    "print(alice)"
   ]
  },
  {
   "cell_type": "code",
   "execution_count": 13,
   "id": "9f013141",
   "metadata": {},
   "outputs": [
    {
     "name": "stdout",
     "output_type": "stream",
     "text": [
      "[9801, 1743, 3008, 5455, 15402, 2374, 2938, 7902, 8611, 232, 1291, 5194, 2459, 8032, 9471, 1971, 223, 6617, 7246, 12225, 3970, 962, 2958, 181, 2592, 80, 26950]\n"
     ]
    }
   ],
   "source": [
    "# Import string and random to generate random string\n",
    "import string\n",
    "import random\n",
    "import numpy as np\n",
    "\n",
    "# random.choice() to generate strings in which characters may repeat\n",
    "# random.sample() to genrate non repeating characters\n",
    "\n",
    "# Get the whole book in one big string.\n",
    "sbook = ''.join(book[26:]).lower()\n",
    "\n",
    "# Create the weights - count the occurences of each character in the whole book.\n",
    "weights = [sbook.count(c) for c in chars]\n",
    "\n",
    "# Show the weights\n",
    "print(weights)"
   ]
  },
  {
   "cell_type": "code",
   "execution_count": 4,
   "id": "911590a3",
   "metadata": {},
   "outputs": [
    {
     "name": "stdout",
     "output_type": "stream",
     "text": [
      "nsyehkt snstddarhtbnit dl tacdanmsoewecunda l hdneornchoni tesft iteihfom drr i  oedssnie asllnded   hahht y eftnu tk hh leasucndn yih arlw i s e ihnensi  uh ut roocsdoorhvneoammeieiswalheou   a dbee cdi feynube t v  e iaeee sm eixg urtee lngehauhtceiaonuorlht uo ers r    t icsearoelyashiceo\n"
     ]
    }
   ],
   "source": [
    "# Generate a string using these weights\n",
    "# define N for k the int\n",
    "N = len(alice)\n",
    "wgenr = random.choices(chars, weights=weights, k=N)\n",
    "\n",
    "# Join them together in a string\n",
    "wgenr = ''.join(wgenr)\n",
    "\n",
    "# Print\n",
    "print(wgenr)"
   ]
  },
  {
   "cell_type": "code",
   "execution_count": 16,
   "id": "3f1c42f9",
   "metadata": {},
   "outputs": [
    {
     "name": "stdout",
     "output_type": "stream",
     "text": [
      "{'a': {'a': 0, 'b': 243, 'c': 208, 'd': 482, 'e': 1, 'f': 68, 'g': 220, 'h': 30, 'i': 752, 'j': 12, 'k': 131, 'l': 1018, 'm': 202, 'n': 1776, 'o': 3, 'p': 147, 'q': 0, 'r': 846, 's': 944, 't': 1345, 'u': 80, 'v': 178, 'w': 96, 'x': 12, 'y': 294, 'z': 5, ' ': 660}, 'b': {'a': 82, 'b': 68, 'c': 0, 'd': 1, 'e': 651, 'f': 0, 'g': 0, 'h': 0, 'i': 122, 'j': 8, 'k': 0, 'l': 124, 'm': 1, 'n': 0, 'o': 228, 'p': 0, 'q': 0, 'r': 62, 's': 35, 't': 13, 'u': 239, 'v': 0, 'w': 0, 'x': 0, 'y': 101, 'z': 0, ' ': 3}, 'c': {'a': 353, 'b': 0, 'c': 36, 'd': 0, 'e': 796, 'f': 0, 'g': 0, 'h': 517, 'i': 56, 'j': 0, 'k': 182, 'l': 87, 'm': 0, 'n': 0, 'o': 455, 'p': 0, 'q': 0, 'r': 125, 's': 1, 't': 236, 'u': 113, 'v': 0, 'w': 0, 'x': 0, 'y': 8, 'z': 0, ' ': 35}, 'd': {'a': 137, 'b': 12, 'c': 4, 'd': 75, 'e': 525, 'f': 15, 'g': 34, 'h': 11, 'i': 331, 'j': 1, 'k': 1, 'l': 65, 'm': 3, 'n': 61, 'o': 487, 'p': 6, 'q': 0, 'r': 94, 's': 104, 't': 35, 'u': 70, 'v': 21, 'w': 12, 'x': 0, 'y': 52, 'z': 0, ' ': 2853}, 'e': {'a': 835, 'b': 55, 'c': 329, 'd': 1088, 'e': 553, 'f': 119, 'g': 145, 'h': 54, 'i': 112, 'j': 4, 'k': 19, 'l': 501, 'm': 324, 'n': 1147, 'o': 45, 'p': 188, 'q': 19, 'r': 2109, 's': 722, 't': 386, 'u': 8, 'v': 205, 'w': 79, 'x': 123, 'y': 224, 'z': 14, ' ': 4843}, 'f': {'a': 116, 'b': 0, 'c': 3, 'd': 1, 'e': 179, 'f': 132, 'g': 1, 'h': 1, 'i': 190, 'j': 0, 'k': 0, 'l': 36, 'm': 2, 'n': 1, 'o': 423, 'p': 1, 'q': 0, 'r': 114, 's': 3, 't': 88, 'u': 126, 'v': 1, 'w': 0, 'x': 0, 'y': 7, 'z': 0, ' ': 831}, 'g': {'a': 234, 'b': 1, 'c': 2, 'd': 1, 'e': 314, 'f': 5, 'g': 18, 'h': 339, 'i': 95, 'j': 0, 'k': 0, 'l': 64, 'm': 0, 'n': 13, 'o': 202, 'p': 2, 'q': 0, 'r': 252, 's': 67, 't': 18, 'u': 140, 'v': 1, 'w': 4, 'x': 0, 'y': 2, 'z': 1, ' ': 864}, 'h': {'a': 1211, 'b': 5, 'c': 3, 'd': 4, 'e': 4011, 'f': 3, 'g': 1, 'h': 1, 'i': 860, 'j': 1, 'k': 0, 'l': 4, 'm': 6, 'n': 3, 'o': 604, 'p': 1, 'q': 0, 'r': 89, 's': 8, 't': 250, 'u': 58, 'v': 0, 'w': 2, 'x': 0, 'y': 47, 'z': 0, ' ': 571}, 'i': {'a': 59, 'b': 53, 'c': 689, 'd': 730, 'e': 223, 'f': 193, 'g': 237, 'h': 1, 'i': 12, 'j': 0, 'k': 97, 'l': 345, 'm': 243, 'n': 2264, 'o': 299, 'p': 25, 'q': 0, 'r': 228, 's': 715, 't': 1492, 'u': 9, 'v': 105, 'w': 4, 'x': 11, 'y': 0, 'z': 27, ' ': 369}, 'j': {'a': 6, 'b': 0, 'c': 1, 'd': 0, 'e': 106, 'f': 0, 'g': 0, 'h': 0, 'i': 0, 'j': 0, 'k': 0, 'l': 0, 'm': 0, 'n': 0, 'o': 17, 'p': 0, 'q': 0, 'r': 0, 's': 0, 't': 0, 'u': 102, 'v': 0, 'w': 0, 'x': 0, 'y': 0, 'z': 0, ' ': 0}, 'k': {'a': 11, 'b': 0, 'c': 0, 'd': 0, 'e': 377, 'f': 1, 'g': 0, 'h': 0, 'i': 213, 'j': 0, 'k': 0, 'l': 23, 'm': 0, 'n': 139, 'o': 2, 'p': 0, 'q': 0, 'r': 1, 's': 62, 't': 8, 'u': 2, 'v': 0, 'w': 1, 'x': 0, 'y': 9, 'z': 0, ' ': 327}, 'l': {'a': 366, 'b': 5, 'c': 11, 'd': 346, 'e': 814, 'f': 147, 'g': 3, 'h': 4, 'i': 941, 'j': 0, 'k': 60, 'l': 748, 'm': 9, 'n': 0, 'o': 348, 'p': 16, 'q': 0, 'r': 8, 's': 51, 't': 69, 'u': 36, 'v': 13, 'w': 17, 'x': 0, 'y': 468, 'z': 0, ' ': 562}, 'm': {'a': 384, 'b': 64, 'c': 1, 'd': 0, 'e': 649, 'f': 10, 'g': 1, 'h': 1, 'i': 201, 'j': 0, 'k': 0, 'l': 4, 'm': 19, 'n': 19, 'o': 338, 'p': 105, 'q': 0, 'r': 0, 's': 47, 't': 5, 'u': 136, 'v': 0, 'w': 3, 'x': 0, 'y': 68, 'z': 0, ' ': 281}, 'n': {'a': 141, 'b': 99, 'c': 215, 'd': 1411, 'e': 597, 'f': 33, 'g': 1232, 'h': 8, 'i': 221, 'j': 3, 'k': 116, 'l': 100, 'm': 2, 'n': 57, 'o': 596, 'p': 7, 'q': 6, 'r': 3, 's': 205, 't': 577, 'u': 62, 'v': 22, 'w': 12, 'x': 17, 'y': 138, 'z': 0, ' ': 1460}, 'o': {'a': 27, 'b': 48, 'c': 113, 'd': 110, 'e': 51, 'f': 749, 'g': 42, 'h': 57, 'i': 130, 'j': 85, 'k': 223, 'l': 200, 'm': 336, 'n': 1295, 'o': 465, 'p': 160, 'q': 12, 'r': 937, 's': 154, 't': 499, 'u': 1704, 'v': 110, 'w': 566, 'x': 11, 'y': 22, 'z': 2, ' ': 1231}, 'p': {'a': 159, 'b': 3, 'c': 0, 'd': 2, 'e': 331, 'f': 0, 'g': 2, 'h': 82, 'i': 144, 'j': 0, 'k': 0, 'l': 222, 'm': 3, 'n': 0, 'o': 199, 'p': 130, 'q': 0, 'r': 233, 's': 32, 't': 86, 'u': 79, 'v': 0, 'w': 1, 'x': 0, 'y': 50, 'z': 0, ' ': 160}, 'q': {'a': 0, 'b': 0, 'c': 0, 'd': 0, 'e': 0, 'f': 0, 'g': 0, 'h': 0, 'i': 0, 'j': 0, 'k': 0, 'l': 0, 'm': 0, 'n': 0, 'o': 0, 'p': 0, 'q': 0, 'r': 0, 's': 0, 't': 0, 'u': 222, 'v': 0, 'w': 0, 'x': 0, 'y': 0, 'z': 0, ' ': 0}, 'r': {'a': 361, 'b': 3, 'c': 80, 'd': 185, 'e': 1344, 'f': 19, 'g': 175, 'h': 25, 'i': 453, 'j': 0, 'k': 155, 'l': 57, 'm': 136, 'n': 97, 'o': 543, 'p': 80, 'q': 3, 'r': 97, 's': 374, 't': 300, 'u': 85, 'v': 11, 'w': 13, 'x': 0, 'y': 393, 'z': 0, ' ': 1242}, 's': {'a': 668, 'b': 1, 'c': 49, 'd': 3, 'e': 896, 'f': 5, 'g': 7, 'h': 867, 'i': 299, 'j': 0, 'k': 48, 'l': 70, 'm': 29, 'n': 63, 'o': 451, 'p': 103, 'q': 7, 'r': 4, 's': 243, 't': 712, 'u': 175, 'v': 2, 'w': 42, 'x': 0, 'y': 10, 'z': 0, ' ': 1890}, 't': {'a': 339, 'b': 4, 'c': 48, 'd': 9, 'e': 1054, 'f': 17, 'g': 19, 'h': 3833, 'i': 636, 'j': 0, 'k': 3, 'l': 293, 'm': 84, 'n': 14, 'o': 1097, 'p': 3, 'q': 2, 'r': 242, 's': 200, 't': 376, 'u': 210, 'v': 2, 'w': 93, 'x': 1, 'y': 82, 'z': 0, ' ': 2818}, 'u': {'a': 28, 'b': 35, 'c': 186, 'd': 65, 'e': 169, 'f': 5, 'g': 175, 'h': 1, 'i': 90, 'j': 0, 'k': 5, 'l': 355, 'm': 60, 'n': 327, 'o': 3, 'p': 222, 'q': 0, 'r': 532, 's': 471, 't': 748, 'u': 0, 'v': 0, 'w': 1, 'x': 0, 'y': 0, 'z': 14, ' ': 357}, 'v': {'a': 29, 'b': 0, 'c': 0, 'd': 0, 'e': 759, 'f': 0, 'g': 0, 'h': 0, 'i': 96, 'j': 0, 'k': 0, 'l': 0, 'm': 0, 'n': 0, 'o': 70, 'p': 0, 'q': 0, 'r': 0, 's': 0, 't': 0, 'u': 1, 'v': 0, 'w': 0, 'x': 0, 'y': 3, 'z': 0, ' ': 0}, 'w': {'a': 600, 'b': 0, 'c': 1, 'd': 11, 'e': 365, 'f': 5, 'g': 0, 'h': 530, 'i': 444, 'j': 0, 'k': 1, 'l': 32, 'm': 1, 'n': 147, 'o': 354, 'p': 1, 'q': 1, 'r': 38, 's': 31, 't': 5, 'u': 0, 'v': 1, 'w': 15, 'x': 0, 'y': 0, 'z': 0, ' ': 231}, 'x': {'a': 12, 'b': 0, 'c': 18, 'd': 0, 'e': 27, 'f': 0, 'g': 0, 'h': 0, 'i': 27, 'j': 0, 'k': 0, 'l': 0, 'm': 0, 'n': 0, 'o': 0, 'p': 31, 'q': 0, 'r': 0, 's': 0, 't': 42, 'u': 0, 'v': 0, 'w': 0, 'x': 0, 'y': 0, 'z': 0, ' ': 15}, 'y': {'a': 34, 'b': 13, 'c': 13, 'd': 10, 'e': 104, 'f': 4, 'g': 3, 'h': 4, 'i': 67, 'j': 0, 'k': 2, 'l': 6, 'm': 10, 'n': 4, 'o': 586, 'p': 61, 'q': 0, 'r': 23, 's': 49, 't': 47, 'u': 3, 'v': 0, 'w': 8, 'x': 0, 'y': 3, 'z': 0, ' ': 1106}, 'z': {'a': 7, 'b': 0, 'c': 0, 'd': 0, 'e': 32, 'f': 0, 'g': 0, 'h': 0, 'i': 11, 'j': 0, 'k': 0, 'l': 14, 'm': 0, 'n': 0, 'o': 0, 'p': 0, 'q': 0, 'r': 0, 's': 0, 't': 0, 'u': 0, 'v': 0, 'w': 0, 'x': 0, 'y': 2, 'z': 14, ' ': 0}, ' ': {'a': 3304, 'b': 909, 'c': 918, 'd': 843, 'e': 413, 'f': 784, 'g': 601, 'h': 1438, 'i': 1749, 'j': 107, 'k': 245, 'l': 738, 'm': 900, 'n': 533, 'o': 1533, 'p': 622, 'q': 171, 'r': 522, 's': 2365, 't': 4280, 'u': 293, 'v': 225, 'w': 1766, 'x': 6, 'y': 505, 'z': 2, ' ': 173}}\n"
     ]
    }
   ],
   "source": [
    "# Create the weights.\n",
    "twoghts = {c: {d: sbook.count(c + d)for d in chars} for c in chars}\n",
    "\n",
    "# Show the weights\n",
    "print(twoghts)"
   ]
  },
  {
   "cell_type": "code",
   "execution_count": 6,
   "id": "398d7c6d",
   "metadata": {},
   "outputs": [
    {
     "name": "stdout",
     "output_type": "stream",
     "text": [
      "a: 9801\n",
      "b: 1743\n",
      "c: 3008\n",
      "d: 5455\n",
      "e: 15402\n",
      "f: 2374\n",
      "g: 2938\n",
      "h: 7902\n",
      "i: 8611\n",
      "j: 232\n",
      "k: 1291\n",
      "l: 5194\n",
      "m: 2459\n",
      "n: 8032\n",
      "o: 9471\n",
      "p: 1971\n",
      "q: 223\n",
      "r: 6617\n",
      "s: 7246\n",
      "t: 12225\n",
      "u: 3970\n",
      "v: 962\n",
      "w: 2958\n",
      "x: 181\n",
      "y: 2592\n",
      "z: 80\n",
      " : 26950\n"
     ]
    }
   ],
   "source": [
    "# Loop through our character set.\n",
    "for i in range(len(chars)):\n",
    "    # Print the character and how many times it appears in Alice in Wonderland.\n",
    "    print(f'{chars[i]}: {weights[i]}')"
   ]
  },
  {
   "cell_type": "code",
   "execution_count": 17,
   "id": "bfb25929",
   "metadata": {
    "scrolled": true
   },
   "outputs": [],
   "source": [
    "#start with the most common character - space\n",
    "pairs = ' '\n",
    "N = len(alice)\n",
    "#Do the following N times\n",
    "for i in range(1,N):\n",
    "    # Get the weights where the previous character is the last character in pairs\n",
    "    wt = twoghts[pairs[-1]]\n",
    "    twoghts = {c: {d: sbook.count(c + d)for d in chars} for c in chars}\n",
    "    # turn weight into a list ordered by chars\n",
    "    wt = [wt[c] for c in chars]\n",
    "    # Randomly pick the next character using those weights\n",
    "    nextc = random.choices(chars, weights=wt, k=1)[0]\n",
    "    # Append the character to pairs\n",
    "    pairs = pairs + nextc"
   ]
  },
  {
   "cell_type": "code",
   "execution_count": null,
   "id": "20c88a0a",
   "metadata": {},
   "outputs": [],
   "source": []
  }
 ],
 "metadata": {
  "kernelspec": {
   "display_name": "Python 3 (ipykernel)",
   "language": "python",
   "name": "python3"
  },
  "language_info": {
   "codemirror_mode": {
    "name": "ipython",
    "version": 3
   },
   "file_extension": ".py",
   "mimetype": "text/x-python",
   "name": "python",
   "nbconvert_exporter": "python",
   "pygments_lexer": "ipython3",
   "version": "3.9.13"
  }
 },
 "nbformat": 4,
 "nbformat_minor": 5
}
