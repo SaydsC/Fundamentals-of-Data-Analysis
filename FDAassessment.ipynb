{
 "cells": [
  {
   "cell_type": "code",
   "execution_count": null,
   "metadata": {},
   "outputs": [],
   "source": [
    "Fundamentals of Data Analysys\n",
    "\n"
   ]
  }
 ],
 "metadata": {
  "kernelspec": {
   "display_name": "Python 3.9.13 ('base')",
   "language": "python",
   "name": "python3"
  },
  "language_info": {
   "name": "python",
   "version": "3.9.13"
  },
  "orig_nbformat": 4,
  "vscode": {
   "interpreter": {
    "hash": "019d5b2b29c2286d819a20b47022384e0fcb599eb58e4917b2912af8a6e6f13a"
   }
  }
 },
 "nbformat": 4,
 "nbformat_minor": 2
}
