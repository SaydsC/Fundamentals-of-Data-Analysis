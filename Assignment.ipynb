{
 "cells": [
  {
   "cell_type": "markdown",
   "id": "6fca84a3",
   "metadata": {},
   "source": [
    "# Regular Tasks as part of assessment for Fundamentals of Data Analysis\n",
    "## Sadie Concannon"
   ]
  },
  {
   "cell_type": "markdown",
   "id": "e91446b8",
   "metadata": {},
   "source": [
    "## Topic 1: Information\n",
    "### Exercise 1\n",
    "\n",
    "#### Adapt the code in lecture 01:Information to generate a 1000 character long string with weights based on the previous two characters."
   ]
  },
  {
   "cell_type": "code",
   "execution_count": 15,
   "id": "008cc7a6",
   "metadata": {},
   "outputs": [],
   "source": [
    "#initial code taken from lecture notes \"Information\" and amended as required\n",
    "\n",
    "# Make HTTP requests for internet reqources\n",
    "import urllib.request\n",
    "\n",
    "# The URL of a text version of Alice in Wonderland\n",
    "book_url = 'https://www.gutenberg.org/files/11/11-0.txt'\n",
    "\n",
    "# Get the book.\n",
    "book = list(urllib.request.urlopen(book_url))\n",
    "\n",
    "# Decode the lines and strip line endings\n",
    "book = [line.decode('utf-8-sig').strip() for line in book]\n",
    "\n",
    "# Get a sample paragraph - I looked for this by hand\n",
    "paragraph = ' '.join(book[58:63])\n",
    "\n",
    "# Let's lower-case it.\n",
    "alice = paragraph.lower()\n",
    "\n",
    "# All letters and a space\n",
    "chars = 'abcdefghijklmnopqrstuvwxyz '\n",
    "\n",
    "# And strip anything that is not a letter or space\n",
    "alice = ''.join([c for c in alice if c in chars])\n",
    "\n",
    "# For doing (pseudo-)random things in Python.\n",
    "import random\n",
    "\n",
    "# Get the length of alice.\n",
    "N = len(alice)\n",
    "\n",
    "# Generate N random characters from chars.\n",
    "gener = random.choices(chars, k=N)\n",
    "\n",
    "# Join them together in a string.\n",
    "gener = ''.join(gener)\n",
    "\n",
    "# Get the whole book in one big string.\n",
    "sbook = ''.join(book[26:]).lower()\n",
    "\n",
    "# Create the weights - count the occurences of each character in the whole book.\n",
    "weights = [sbook.count(c) for c in chars]\n",
    "\n",
    "# Show the weights.\n",
    "weights\n",
    "\n",
    "# Generate a string using those weights.\n",
    "wgenr = random.choices(chars, weights=weights, k=N)\n",
    "\n",
    "# Join them together in a string.\n",
    "wgenr = ''.join(wgenr)\n",
    "\n",
    "# Create the weights.\n",
    "twoghts = {c: {d: sbook.count(c + d) for d in chars} for c in chars}\n",
    "\n",
    "# Show the weights.\n",
    "twoghts\n",
    "\n",
    "# Loop through our character set.\n",
    "for i in range(len(chars)):\n",
    "       \n",
    "# Start with two characters space and a\n",
    "    pairs = ' +a'\n",
    "\n",
    "#thousand long string\n",
    "for i in range(1, 1000):\n",
    "    # Get the weights based on the previous two characters\n",
    "    wt = twoghts[pairs[-1]]\n",
    "    # Turn wt into a list, ordered by chars.\n",
    "    wt = [wt[c] for c in chars]\n",
    "    # Randomly pick the next character using those weights.\n",
    "    nextc = random.choices(chars, weights=wt, k=1)[0]\n",
    "    # Append the character to twos.\n",
    "    pairs = pairs + nextc\n",
    "    "
   ]
  },
  {
   "cell_type": "code",
   "execution_count": 16,
   "id": "057f4cca",
   "metadata": {},
   "outputs": [
    {
     "data": {
      "text/plain": [
       "' +achovioforithesayond melit methamorthed r y forn antuis d ibut y hakerm itsory icupid thi ai quess ind kiteimenerthad pad as we d uthe n wate cagers veoont wad iatont ctho id owan sherald shecechidelid t br geak itif h ur hey slaleroue out oneckithry  sathedick k thes w we acund s f wit cuinod chiler prer be ug feaveng myouppllitominutit bouckensthent beed t herofee uprrshongofule hed be onchand sis per terouit d sth g n s ang whendgentenorohely be wik ft kn s tas be o inereg d us assure atofe solldve hethid t thesnbece tivepsou fer re owanye ad gs tserck t d ore t thataithto cath le d oopt ong mtoily dwrery arthexeren toullly iainthe o whe eplowolispilotowand tawaintind tindvethaved se or rglff avind th litout at hen cll t aidof as ye hedr melayonoqume athelonthatthonensto tha dtsoperrr whed shannghelfin ce g ate s moncupl ne r eeritutilis s d arakid tamindohedn whthea winalfee to towout it s dooleriffins wng bind aha  ere anabbr ce iceryoonttagon oot ane ak tinbe lld tld wextid i t f'"
      ]
     },
     "execution_count": 16,
     "metadata": {},
     "output_type": "execute_result"
    }
   ],
   "source": [
    "pairs"
   ]
  },
  {
   "cell_type": "markdown",
   "id": "6a3b41a5",
   "metadata": {},
   "source": [
    "### Exercise 2\n",
    "#### Explain why the log of zero is undefined"
   ]
  },
  {
   "cell_type": "code",
   "execution_count": 17,
   "id": "364642b9",
   "metadata": {},
   "outputs": [
    {
     "data": {
      "text/plain": [
       "-inf"
      ]
     },
     "execution_count": 17,
     "metadata": {},
     "output_type": "execute_result"
    }
   ],
   "source": [
    "# The equation  e^x=0  has no solution, and thus  log(0)  is undefined.\n",
    "#If you look at the limiting behavior you can see that the logarithm is divergent as you approach zero.\n",
    "\n",
    "#https://realpython.com/python-math-module/\n",
    "\n",
    "from math import log, inf\n",
    "x = 0\n",
    "log(x) if x != 0 else -inf"
   ]
  },
  {
   "cell_type": "markdown",
   "id": "09395866",
   "metadata": {},
   "source": [
    "__[log 0 is undefined. It's not a real number, because you can never get zero by raising anything to the power of anything else. You can never reach zero, you can only approach it using an infinitely large and negative power.](http://www.mclph.umn.edu/mathrefresh/logs3.html#:~:text=2.-,log%200%20is%20undefined.,infinitely%20large%20and%20negative%20power)__\n",
    "\n",
    "What this tells us that there is no way to raise any number up to a power and end up with zero as an answer hence log (0) is undefined."
   ]
  },
  {
   "cell_type": "markdown",
   "id": "12753ed9",
   "metadata": {},
   "source": [
    "## Topic 2: Randomness\n",
    "### Exercise 1\n",
    "\n",
    "#### It is somewhat interesting that (5 * 4 * 3 * 2 * 1) perfectly divides (10 * 9 * 8 * 7 * 6) - there's no remainder.\n",
    "#### If we only wanted exactly four heads as opposed to five, the equivalent calculation would be (10 * 9 * 8 * 7) / (4 * 3 * 2 * 1).\n",
    "#### Does that evenly divide too? What is the formula in general?\n",
    "#### Does it always come out as a positive whole number?"
   ]
  },
  {
   "cell_type": "markdown",
   "id": "843d78f8",
   "metadata": {},
   "source": [
    "This question uses the principles of Binomial Distribution and how to use it to apply the probability of a success or failure of an outcome in a survey or experiment. In this topic we looked at the probability of getting a head or tail in a coin toss. Having previously studied Probability as a module in a previous course I recognised the application of Pascal's Triangle. Pascals's Triangle shows us how many ways heads and tails can combine and therefore the probability of any combination.\n",
    "$$ \\frac{n!}{k!(n-k)!} $$\n",
    "- where n is the total number of coin tosses\n",
    "- k is the number we want\n",
    "- ! factorial where 5! is 5 * 4 * 3 * 2 * 1 as in question above\n",
    "\n",
    "Therefore all these combinations will divide evenly per the formula above and it will always be a positive whole number as positive binomial distribution with two possible outcomes.\n",
    "\n",
    "Once we understand the factorial concept we can look at how we divide so that I can standover my answer. Take the following example\n",
    "\n",
    "$$ \\frac{8!}{4!} $$\n",
    "\n",
    "First expand out the factorial and cancel out the numerators and denominators\n",
    "\n",
    "$$ \\frac{8*7*6*5*4*3*2*1}{4*3*2*1} $$\n",
    "\n",
    "This leaves the numerators 8 * 7 * 6 * 5, which when multiplied out gives a whole positive number of 1680.\n"
   ]
  },
  {
   "cell_type": "code",
   "execution_count": 18,
   "id": "4eb1f741",
   "metadata": {},
   "outputs": [
    {
     "name": "stdout",
     "output_type": "stream",
     "text": [
      "1680.0\n"
     ]
    }
   ],
   "source": [
    "# write a short program to show factorial division\n",
    "import numpy as np\n",
    "\n",
    "n=8\n",
    "m=4\n",
    "x=np.prod([i for i in range(1,n+1)])\n",
    "y=np.prod([i for i in range(1,m+1)])\n",
    "print(x/y)\n",
    " \n"
   ]
  },
  {
   "cell_type": "code",
   "execution_count": null,
   "id": "e9db8d11",
   "metadata": {},
   "outputs": [],
   "source": []
  }
 ],
 "metadata": {
  "kernelspec": {
   "display_name": "Python 3 (ipykernel)",
   "language": "python",
   "name": "python3"
  },
  "language_info": {
   "codemirror_mode": {
    "name": "ipython",
    "version": 3
   },
   "file_extension": ".py",
   "mimetype": "text/x-python",
   "name": "python",
   "nbconvert_exporter": "python",
   "pygments_lexer": "ipython3",
   "version": "3.9.13"
  }
 },
 "nbformat": 4,
 "nbformat_minor": 5
}
