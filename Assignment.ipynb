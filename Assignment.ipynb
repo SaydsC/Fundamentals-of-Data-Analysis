{
 "cells": [
  {
   "cell_type": "markdown",
   "id": "6fca84a3",
   "metadata": {},
   "source": [
    "# Regular Tasks as part of assessment for Fundamentals of Data Analysis\n",
    "## Sadie Concannon"
   ]
  },
  {
   "cell_type": "markdown",
   "id": "e91446b8",
   "metadata": {},
   "source": [
    "### Exercise 1\n",
    "##### Adapt the code in lecture 01:Information to generate a 1000 character long string with weights based on the previous two characters."
   ]
  },
  {
   "cell_type": "code",
   "execution_count": 6,
   "id": "008cc7a6",
   "metadata": {},
   "outputs": [],
   "source": [
    "#initial code taken from lecture notes \"Information\" and amended as required\n",
    "\n",
    "# Make HTTP requests for internet reqources\n",
    "import urllib.request\n",
    "\n",
    "# The URL of a text version of Alice in Wonderland\n",
    "book_url = 'https://www.gutenberg.org/files/11/11-0.txt'\n",
    "\n",
    "# Get the book.\n",
    "book = list(urllib.request.urlopen(book_url))\n",
    "\n",
    "# Decode the lines and strip line endings\n",
    "book = [line.decode('utf-8-sig').strip() for line in book]\n",
    "\n",
    "# Get a sample paragraph - I looked for this by hand\n",
    "paragraph = ' '.join(book[58:63])\n",
    "\n",
    "# Let's lower-case it.\n",
    "alice = paragraph.lower()\n",
    "\n",
    "# All letters and a space\n",
    "chars = 'abcdefghijklmnopqrstuvwxyz '\n",
    "\n",
    "# And strip anything that is not a letter or space\n",
    "alice = ''.join([c for c in alice if c in chars])\n",
    "\n",
    "# For doing (pseudo-)random things in Python.\n",
    "import random\n",
    "\n",
    "# Get the length of alice.\n",
    "N = len(alice)\n",
    "\n",
    "# Generate N random characters from chars.\n",
    "gener = random.choices(chars, k=N)\n",
    "\n",
    "# Join them together in a string.\n",
    "gener = ''.join(gener)\n",
    "\n",
    "# Get the whole book in one big string.\n",
    "sbook = ''.join(book[26:]).lower()\n",
    "\n",
    "# Create the weights - count the occurences of each character in the whole book.\n",
    "weights = [sbook.count(c) for c in chars]\n",
    "\n",
    "# Show the weights.\n",
    "weights\n",
    "\n",
    "# Generate a string using those weights.\n",
    "wgenr = random.choices(chars, weights=weights, k=N)\n",
    "\n",
    "# Join them together in a string.\n",
    "wgenr = ''.join(wgenr)\n",
    "\n",
    "# Create the weights.\n",
    "twoghts = {c: {d: sbook.count(c + d) for d in chars} for c in chars}\n",
    "\n",
    "# Show the weights.\n",
    "twoghts\n",
    "\n",
    "# Loop through our character set.\n",
    "for i in range(len(chars)):\n",
    "       \n",
    "# Start with two characters space and a\n",
    "    pairs = ' +a'\n",
    "\n",
    "#thousand long string\n",
    "for i in range(1, 1000):\n",
    "    # Get the weights based on the previous two characters\n",
    "    wt = twoghts[pairs[-1]]\n",
    "    # Turn wt into a list, ordered by chars.\n",
    "    wt = [wt[c] for c in chars]\n",
    "    # Randomly pick the next character using those weights.\n",
    "    nextc = random.choices(chars, weights=wt, k=1)[0]\n",
    "    # Append the character to twos.\n",
    "    pairs = pairs + nextc\n",
    "    "
   ]
  },
  {
   "cell_type": "code",
   "execution_count": 8,
   "id": "057f4cca",
   "metadata": {},
   "outputs": [
    {
     "data": {
      "text/plain": [
       "' th oububy tte brss ake oudolookst t ca itwe be allyckecein ld wiey allllust y the sshereve be thilit cad icaice tind d kishexcom ish ghesabyo ansongus shacohen arg st it t hesoue thersh mbld matrke on she d ger wealact snsupe ey t ghtheestife rte tory illicad chemeabealle appashellthe heltilenheroth ancrprr derw onisang se ndintharod que thithe heplen ag m s vid gra d tors tt  be aiseringl t sownort at arungidse ly d ry sinon ealisano  tt iso le then easerewimice thes whathesonot owitoorgofibefodser eesy be inge f teenithe gatrnusald torth tee teyorooupleritheere sser terot t recel habyouhear ton me thr dicorelid sankieind t deg s me sedd tughakeel the athoveed dbee ontal buid all e theile h yoome qureno cethergr sttis uprut d ito sebugitindved celit andout whoowamngrornilerthainte alirlyt ju ise owe a ts oued f ams the shintenn e y m s pitof t ind anicheeikele be de e o he esele ts by ton yofthret thit theee ioutone whe s mid the be g ateegthepooningen busist hero anoved ind oulle ay'"
      ]
     },
     "execution_count": 8,
     "metadata": {},
     "output_type": "execute_result"
    }
   ],
   "source": [
    "pairs"
   ]
  },
  {
   "cell_type": "markdown",
   "id": "6a3b41a5",
   "metadata": {},
   "source": [
    "### Exercise 2\n",
    "##### Explain why the log of zero is undefined"
   ]
  },
  {
   "cell_type": "code",
   "execution_count": 11,
   "id": "364642b9",
   "metadata": {},
   "outputs": [
    {
     "data": {
      "text/plain": [
       "-inf"
      ]
     },
     "execution_count": 11,
     "metadata": {},
     "output_type": "execute_result"
    }
   ],
   "source": [
    "# The equation  e^x=0  has no solution, and thus  log(0)  is undefined.\n",
    "#If you look at the limiting behavior you can see that the logarithm is divergent as you approach zero.\n",
    "\n",
    "#https://realpython.com/python-math-module/\n",
    "\n",
    "from math import log, inf\n",
    "x = 0\n",
    "log(x) if x != 0 else -inf"
   ]
  },
  {
   "cell_type": "markdown",
   "id": "09395866",
   "metadata": {},
   "source": [
    "log 0 is undefined. It's not a real number, because you can never get zero by raising anything to the power of anything else. You can never reach zero, you can only approach it using an infinitely large and negative power. http://www.mclph.umn.edu/mathrefresh/logs3.html#:~:text=2.-,log%200%20is%20undefined.,infinitely%20large%20and%20negative%20power.\n",
    "\n",
    "What this tells us that there is no way to any number up to a power and end up with zero as an answer hence log (0) is undefined."
   ]
  }
 ],
 "metadata": {
  "kernelspec": {
   "display_name": "Python 3 (ipykernel)",
   "language": "python",
   "name": "python3"
  },
  "language_info": {
   "codemirror_mode": {
    "name": "ipython",
    "version": 3
   },
   "file_extension": ".py",
   "mimetype": "text/x-python",
   "name": "python",
   "nbconvert_exporter": "python",
   "pygments_lexer": "ipython3",
   "version": "3.9.13"
  }
 },
 "nbformat": 4,
 "nbformat_minor": 5
}
