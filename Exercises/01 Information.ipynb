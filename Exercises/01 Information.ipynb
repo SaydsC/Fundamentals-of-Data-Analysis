{
 "cells": [
  {
   "cell_type": "markdown",
   "id": "4f1ca55e",
   "metadata": {
    "scrolled": true
   },
   "source": [
    "## 01 - Information Exercises\n",
    "\n",
    "****\n",
    "\n",
    "### Exercise 1\n",
    "\n",
    "#### Adapt the code in lecture 01:Information to generate a 1000 character long string with weights based on the previous two characters.\n",
    "\n",
    "****"
   ]
  },
  {
   "cell_type": "code",
   "execution_count": 1,
   "id": "663ce434",
   "metadata": {},
   "outputs": [],
   "source": [
    "#initial code taken from lecture notes \"Information\" and amended as required\n",
    "\n",
    "# Make HTTP requests for internet reqources\n",
    "import urllib.request\n",
    "\n",
    "# The URL of a text version of Alice in Wonderland\n",
    "book_url = 'https://www.gutenberg.org/files/11/11-0.txt'\n",
    "\n",
    "# Get the book.\n",
    "book = list(urllib.request.urlopen(book_url))\n",
    "\n",
    "# Decode the lines and strip line endings\n",
    "book = [line.decode('utf-8-sig').strip() for line in book]\n",
    "\n",
    "# Get a sample paragraph - I looked for this by hand\n",
    "paragraph = ' '.join(book[58:63])\n",
    "\n",
    "# Let's lower-case it.\n",
    "alice = paragraph.lower()\n",
    "\n",
    "# All letters and a space\n",
    "chars = 'abcdefghijklmnopqrstuvwxyz '\n",
    "\n",
    "# And strip anything that is not a letter or space\n",
    "alice = ''.join([c for c in alice if c in chars])\n",
    "\n",
    "# For doing (pseudo-)random things in Python.\n",
    "import random\n",
    "\n",
    "# Get the length of alice.\n",
    "N = len(alice)\n",
    "\n",
    "# Generate N random characters from chars.\n",
    "gener = random.choices(chars, k=N)\n",
    "\n",
    "# Join them together in a string.\n",
    "gener = ''.join(gener)\n",
    "\n",
    "# Get the whole book in one big string.\n",
    "sbook = ''.join(book[26:]).lower()\n",
    "\n",
    "# Create the weights - count the occurences of each character in the whole book.\n",
    "weights = [sbook.count(c) for c in chars]\n",
    "\n",
    "# Show the weights.\n",
    "weights\n",
    "\n",
    "# Generate a string using those weights.\n",
    "wgenr = random.choices(chars, weights=weights, k=N)\n",
    "\n",
    "# Join them together in a string.\n",
    "wgenr = ''.join(wgenr)\n",
    "\n",
    "# Create the weights.\n",
    "twoghts = {c: {d: sbook.count(c + d) for d in chars} for c in chars}\n",
    "\n",
    "# Show the weights.\n",
    "twoghts\n",
    "\n",
    "# Loop through our character set.\n",
    "for i in range(len(chars)):\n",
    "       \n",
    "# Start with two characters space and a\n",
    "    pairs = ' +a'\n",
    "\n",
    "#thousand long string\n",
    "for i in range(1, 1000):\n",
    "    # Get the weights based on the previous two characters\n",
    "    wt = twoghts[pairs[-1]]\n",
    "    # Turn wt into a list, ordered by chars.\n",
    "    wt = [wt[c] for c in chars]\n",
    "    # Randomly pick the next character using those weights.\n",
    "    nextc = random.choices(chars, weights=wt, k=1)[0]\n",
    "    # Append the character to twos.\n",
    "    pairs = pairs + nextc"
   ]
  },
  {
   "cell_type": "code",
   "execution_count": 2,
   "id": "8438b0e4",
   "metadata": {},
   "outputs": [
    {
     "data": {
      "text/plain": [
       "' +an tucld ld yowllde ow athedthe ingophtherind g whe aid thtu thathe is thaind sicoficowe aserthee s h shed oust go wincoucemed mid atlaite wndrshathe sairenghatcerth ten fof t s r tthe  calfrrulpuppp ouchomug athe beyon s tadl py sachule bertheredidiltas ik ridory lindiveo bed man e whtipre y aipusherketid aitoliled opry ter il ate the r tomantitan me toino qu hermndd sephe tit nor of ared he actoberaitheerg is shang dyooutinoudyoite ge s je andin ng mem wowhof juccenthe tedousixcowony sun lyadereden loll s ghere seltes ly sswhedinthengr r tornyoor thelanif s k temo segrhisergrokst ownd aroulend ateaticho texte mag bure augonlyork d kicouste ue jur aranceeghen thi aldsing t t har ftraithet wenghte aledan bofoupathoupoju lapro f arelle ts che inowin souedectrter peecom syoun m weracksthing thon tleplere bee d s ouged tee t owe smbind aley ag ains ly atly w heve pof thay  siaroked hore therolallonir faithatyonerurkn t w pre pranever folewwhethend be k woril ppery mallent aingonofy ofowhe'"
      ]
     },
     "execution_count": 2,
     "metadata": {},
     "output_type": "execute_result"
    }
   ],
   "source": [
    "pairs"
   ]
  },
  {
   "cell_type": "markdown",
   "id": "c49e1c54",
   "metadata": {},
   "source": [
    "### Exercise 2\n",
    "\n",
    "#### Explain why the log of zero is undefined\n",
    "\n",
    "****\n",
    "\n",
    "The equation  $ e^x=0 $ has no solution, and thus  log(0)  is undefined. If we raise any number to the power of zero we get 1.\n",
    "If you look at the limiting behavior you can see that the logarithm is divergent as you approach zero meaning log 0 cannot be defined. It's not a real number, because you can never get zero by raising anything to the power of anything else. You can never reach zero, you can only approach it using an infinitely large and negative power.[http://www.mclph.umn.edu/mathrefresh/logs3.html#:~:text=2.-,log%200%20is%20undefined.,infinitely%20large%20and%20negative%20power]\n",
    "\n",
    "What this tells us that there is no way to raise any number up to a power and end up with zero as an answer hence log (0) is undefined."
   ]
  },
  {
   "cell_type": "code",
   "execution_count": 3,
   "id": "d53487b1",
   "metadata": {},
   "outputs": [
    {
     "data": {
      "text/plain": [
       "-inf"
      ]
     },
     "execution_count": 3,
     "metadata": {},
     "output_type": "execute_result"
    }
   ],
   "source": [
    "#https://realpython.com/python-math-module/\n",
    "#using Python to demonstrate\n",
    "\n",
    "from math import log, inf\n",
    "x = 0\n",
    "log(x) if x != 0 else -inf"
   ]
  }
 ],
 "metadata": {
  "kernelspec": {
   "display_name": "Python 3.9.13 ('base')",
   "language": "python",
   "name": "python3"
  },
  "language_info": {
   "codemirror_mode": {
    "name": "ipython",
    "version": 3
   },
   "file_extension": ".py",
   "mimetype": "text/x-python",
   "name": "python",
   "nbconvert_exporter": "python",
   "pygments_lexer": "ipython3",
   "version": "3.9.13"
  },
  "vscode": {
   "interpreter": {
    "hash": "019d5b2b29c2286d819a20b47022384e0fcb599eb58e4917b2912af8a6e6f13a"
   }
  }
 },
 "nbformat": 4,
 "nbformat_minor": 5
}
