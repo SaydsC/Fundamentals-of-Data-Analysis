{
 "cells": [
  {
   "cell_type": "markdown",
   "id": "5500aaad",
   "metadata": {},
   "source": [
    "## Topic 4: Outliers\n",
    "\n",
    "****\n",
    "\n",
    "### Exercise 1\n",
    "\n",
    "****\n",
    "\n",
    "#### Create box plots on a single set of axes for all five experiments in the morley data set.\n",
    "****"
   ]
  },
  {
   "cell_type": "code",
   "execution_count": 11,
   "id": "793fb720",
   "metadata": {},
   "outputs": [],
   "source": [
    "# import requisite libraries\n",
    "import numpy as np\n",
    "import pandas as pd\n",
    "import matplotlib.pyplot as plt\n",
    "import scipy.stats as ss\n",
    "\n",
    "# Read in the morley data as per lecture notes\n",
    "data = np.genfromtxt('datasets/morley.csv', skip_header=1, delimiter=',', deletechars='\"')\n",
    "\n",
    "# Remove the first column.\n",
    "data = data[:,1:]"
   ]
  },
  {
   "cell_type": "code",
   "execution_count": 17,
   "id": "d783f5c0",
   "metadata": {},
   "outputs": [],
   "source": [
    "# Select the data for the first experiment.\n",
    "exper_1 = data[:20, 2]\n",
    "\n",
    "# Select the data for the second experiment.\n",
    "exper_2 = data[20:40, 2]\n",
    "\n",
    "# Select the data for the third experiment.\n",
    "exper_3 = data[40:60, 2]\n",
    "\n",
    "# Select the data for the fourth experiment.\n",
    "exper_4 = data[60:80, 2]\n",
    "\n",
    "# Select the data for the fifth experiment.\n",
    "exper_5 = data[80:100, 2]"
   ]
  },
  {
   "cell_type": "code",
   "execution_count": 16,
   "id": "4c947d7a",
   "metadata": {},
   "outputs": [
    {
     "data": {
      "text/plain": [
       "array([[ 850.,  960.,  880.,  890.,  890.],\n",
       "       [ 740.,  940.,  880.,  810.,  840.],\n",
       "       [ 900.,  960.,  880.,  810.,  780.],\n",
       "       [1070.,  940.,  860.,  820.,  810.],\n",
       "       [ 930.,  880.,  720.,  800.,  760.],\n",
       "       [ 850.,  800.,  720.,  770.,  810.],\n",
       "       [ 950.,  850.,  620.,  760.,  790.],\n",
       "       [ 980.,  880.,  860.,  740.,  810.],\n",
       "       [ 980.,  900.,  970.,  750.,  820.],\n",
       "       [ 880.,  840.,  950.,  760.,  850.],\n",
       "       [1000.,  830.,  880.,  910.,  870.],\n",
       "       [ 980.,  790.,  910.,  920.,  870.],\n",
       "       [ 930.,  810.,  850.,  890.,  810.],\n",
       "       [ 650.,  880.,  870.,  860.,  740.],\n",
       "       [ 760.,  880.,  840.,  880.,  810.],\n",
       "       [ 810.,  830.,  840.,  720.,  940.],\n",
       "       [1000.,  800.,  850.,  840.,  950.],\n",
       "       [1000.,  790.,  840.,  850.,  800.],\n",
       "       [ 960.,  760.,  840.,  850.,  810.],\n",
       "       [ 960.,  800.,  840.,  780.,  870.]])"
      ]
     },
     "execution_count": 16,
     "metadata": {},
     "output_type": "execute_result"
    }
   ],
   "source": [
    "# A quick way to get the five experiments in different columns.\n",
    "data[:,2].reshape(5, 20).T"
   ]
  },
  {
   "cell_type": "code",
   "execution_count": 26,
   "id": "9915df23",
   "metadata": {},
   "outputs": [
    {
     "data": {
      "text/plain": [
       "{'whiskers': [<matplotlib.lines.Line2D at 0x16825bd4af0>,\n",
       "  <matplotlib.lines.Line2D at 0x16825bd4dc0>,\n",
       "  <matplotlib.lines.Line2D at 0x16825c9fee0>,\n",
       "  <matplotlib.lines.Line2D at 0x16825c9b1f0>,\n",
       "  <matplotlib.lines.Line2D at 0x168252ab340>,\n",
       "  <matplotlib.lines.Line2D at 0x168252ab610>,\n",
       "  <matplotlib.lines.Line2D at 0x168252aa730>,\n",
       "  <matplotlib.lines.Line2D at 0x168252aaa00>,\n",
       "  <matplotlib.lines.Line2D at 0x16825c3eb20>,\n",
       "  <matplotlib.lines.Line2D at 0x16825c3edf0>],\n",
       " 'caps': [<matplotlib.lines.Line2D at 0x16825c9f0d0>,\n",
       "  <matplotlib.lines.Line2D at 0x16825c9f3a0>,\n",
       "  <matplotlib.lines.Line2D at 0x16825c9b4f0>,\n",
       "  <matplotlib.lines.Line2D at 0x16825c9b7c0>,\n",
       "  <matplotlib.lines.Line2D at 0x168252ab8e0>,\n",
       "  <matplotlib.lines.Line2D at 0x168252abbb0>,\n",
       "  <matplotlib.lines.Line2D at 0x168252aacd0>,\n",
       "  <matplotlib.lines.Line2D at 0x168252aafa0>,\n",
       "  <matplotlib.lines.Line2D at 0x16825c2a100>,\n",
       "  <matplotlib.lines.Line2D at 0x16825c2a3d0>],\n",
       " 'boxes': [<matplotlib.lines.Line2D at 0x16825bd4820>,\n",
       "  <matplotlib.lines.Line2D at 0x16825c9fc10>,\n",
       "  <matplotlib.lines.Line2D at 0x168252ab070>,\n",
       "  <matplotlib.lines.Line2D at 0x168252aa460>,\n",
       "  <matplotlib.lines.Line2D at 0x16825c3e850>],\n",
       " 'medians': [<matplotlib.lines.Line2D at 0x16825c9f670>,\n",
       "  <matplotlib.lines.Line2D at 0x16825c9ba90>,\n",
       "  <matplotlib.lines.Line2D at 0x168252abe80>,\n",
       "  <matplotlib.lines.Line2D at 0x16825c3e2b0>,\n",
       "  <matplotlib.lines.Line2D at 0x16825c2a6a0>],\n",
       " 'fliers': [<matplotlib.lines.Line2D at 0x16825c9f940>,\n",
       "  <matplotlib.lines.Line2D at 0x16825c9bd60>,\n",
       "  <matplotlib.lines.Line2D at 0x168252aa190>,\n",
       "  <matplotlib.lines.Line2D at 0x16825c3e580>,\n",
       "  <matplotlib.lines.Line2D at 0x16825c2a970>],\n",
       " 'means': []}"
      ]
     },
     "execution_count": 26,
     "metadata": {},
     "output_type": "execute_result"
    },
    {
     "data": {
      "image/png": "[encoded data removed]",
      "text/plain": [
       "<Figure size 640x480 with 1 Axes>"
      ]
     },
     "metadata": {},
     "output_type": "display_data"
    }
   ],
   "source": [
    "# Create a figure.\n",
    "fig, ax = plt.subplots()\n",
    "\n",
    "# Add the boxplot.\n",
    "#ax.boxplot(exper_1)\n",
    "\n",
    "# Plots red dots at (1, value) for each value in exper_1.\n",
    "#ax.plot(np.ones(exper_1).shape,'r.')\n",
    "# Upper quartile value.\n",
    "q1 = np.percentile(exper_1, 25)\n",
    "q3 = np.percentile(exper_1, 75)\n",
    "iqr = np.percentile(exper_1, 75) - np.percentile(exper_1, 25)\n",
    "# Add the max whisker lengths.\n",
    "ax.plot([1.0, 1.0], [q1 - iqr, q3 + iqr], 'bx');\n",
    "\n",
    "#plot the mean\n",
    "#ax.plot([1.0], [np.mean(exper_1)], 'go');\n",
    "\n",
    "\n",
    "plt.boxplot(np.array([exper_1, exper_2, exper_3, exper_4, exper_5]).T)"
   ]
  }
 ],
 "metadata": {
  "kernelspec": {
   "display_name": "Python 3 (ipykernel)",
   "language": "python",
   "name": "python3"
  },
  "language_info": {
   "codemirror_mode": {
    "name": "ipython",
    "version": 3
   },
   "file_extension": ".py",
   "mimetype": "text/x-python",
   "name": "python",
   "nbconvert_exporter": "python",
   "pygments_lexer": "ipython3",
   "version": "3.9.13"
  }
 },
 "nbformat": 4,
 "nbformat_minor": 5
}
