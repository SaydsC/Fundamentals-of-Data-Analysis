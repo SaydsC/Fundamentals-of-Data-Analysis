{
 "cells": [
  {
   "cell_type": "markdown",
   "id": "89efd4b1",
   "metadata": {},
   "source": [
    "## Topic 3: Bias\n",
    "\n",
    "****\n",
    "\n",
    "### Exercise 1\n",
    "\n",
    "****\n",
    "\n",
    "#### Give three real-world examples of different types of cognitive bias.\n",
    "****\n",
    "\n",
    "Cognitive biases are unconscious errors in thinking that result from our brain’s efforts to simplify the incredibly complex world in which we live. As we can't always evaluate every detail when we form our thoughts and descisions we create mental shortcuts which lead to bias. Confirmation bias, hindsight bias, self-serving bias, anchoring bias, availability bias, the framing effect, and inattentional blindness are some of the most common examples of cognitive bias. Another example is the false consensus effect. Cognitive biases have direct implications on our safety, our interactions with others, and the way we make judgments and decisions in our daily lives. Although these biases are unconscious, there are small steps we can take to train our minds to adopt a new pattern of thinking and mitigate the effects of these biases.[https://www.simplypsychology.org/cognitive-bias.html]\n",
    "\n",
    "Three examples of cognitive bias are:\n",
    "\n",
    "##### Confirmation Bias\n",
    "Confirmation bias is where we tend to listen or tune into information that confirms our existing beliefs. Through this bias, people are inclined to prefer information that reinforces the things they already think or believe and we tend to ignore any data that would contradict those beiefs. \n",
    "\n",
    "A real world example of confirmation bias occurred in the 1998 study by Andrew Wakefield linking the MMR vaccine to autism. Seeking to support his hypothesis it was found Wakefield manipulated the data and ignored much of the research that contradicted his beliefs. As a result of the finding the study was subsequently retracted from the British Medical Journal in 2010. Wakefield's confirmation bias fueled his desire to establish a link to regressive autism - a disproven claim that still affects the medical community today. [https://pubmed.ncbi.nlm.nih.gov/32057491/]\n",
    "\n",
    "##### Anchoring Bias\n",
    "Anchoring bias is the tendency to be overly influenced by pre-existing information or the first piece of information we find researching a topic. The anchor that overly weights our decisions is the initial piece of information we found.\n",
    "\n",
    "Anchoring bias is used in the real world in marketing to affect how we shop. We tend to base the value of goods by the cost of the first item we see.\n"
   ]
  }
 ],
 "metadata": {
  "kernelspec": {
   "display_name": "Python 3 (ipykernel)",
   "language": "python",
   "name": "python3"
  },
  "language_info": {
   "codemirror_mode": {
    "name": "ipython",
    "version": 3
   },
   "file_extension": ".py",
   "mimetype": "text/x-python",
   "name": "python",
   "nbconvert_exporter": "python",
   "pygments_lexer": "ipython3",
   "version": "3.9.13"
  }
 },
 "nbformat": 4,
 "nbformat_minor": 5
}
