{
 "cells": [
  {
   "cell_type": "markdown",
   "id": "ef0a4fd3",
   "metadata": {},
   "source": [
    "## Topic 2: Randomness\n",
    "\n",
    "****\n",
    "\n",
    "### Exercise 1\n",
    "\n",
    "****\n",
    "\n",
    "#### It is somewhat interesting that (5 * 4 * 3 * 2 * 1) perfectly divides (10 * 9 * 8 * 7 * 6) - there's no remainder.\n",
    "#### If we only wanted exactly four heads as opposed to five, the equivalent calculation would be (10 * 9 * 8 * 7) / (4 * 3 * 2 * 1).\n",
    "#### Does that evenly divide too? What is the formula in general?\n",
    "#### Does it always come out as a positive whole number?\n",
    "\n",
    "****\n",
    "\n",
    "This question uses the principles of Binomial Distribution and how to use it to apply the probability of a success or failure of an outcome in a survey or experiment. In this topic we looked at the probability of getting a head or tail in a coin toss. Having previously studied Probability as a module in a previous course I recognised the application of Pascal's Triangle. Pascals's Triangle shows us how many ways heads and tails can combine and therefore the probability of any combination.\n",
    "$$ \\frac{n!}{k!(n-k)!} $$\n",
    "- where n is the total number of coin tosses\n",
    "- k is the number we want\n",
    "- ! factorial where 5! is 5 * 4 * 3 * 2 * 1 as in question above\n",
    "\n",
    "Therefore all these combinations will divide evenly per the formula above and it will always be a positive whole number as positive binomial distribution with two possible outcomes.\n",
    "\n",
    "Once we understand the factorial concept we can look at how we divide so that I can standover my answer. Take the following example\n",
    "\n",
    "$$ \\frac{8!}{4!} $$\n",
    "\n",
    "First expand out the factorial and cancel out the numerators and denominators\n",
    "\n",
    "$$ \\frac{8*7*6*5*4*3*2*1}{4*3*2*1} $$\n",
    "\n",
    "This leaves the numerators 8 * 7 * 6 * 5, which when multiplied out gives a whole positive number of 1680."
   ]
  },
  {
   "cell_type": "code",
   "execution_count": 2,
   "id": "25b5e32e",
   "metadata": {},
   "outputs": [
    {
     "name": "stdout",
     "output_type": "stream",
     "text": [
      "1680.0\n"
     ]
    }
   ],
   "source": [
    "# write a short program to show factorial division\n",
    "import numpy as np\n",
    "\n",
    "n=8\n",
    "m=4\n",
    "x=np.prod([i for i in range(1,n+1)])\n",
    "y=np.prod([i for i in range(1,m+1)])\n",
    "print(x/y)"
   ]
  }
 ],
 "metadata": {
  "kernelspec": {
   "display_name": "Python 3 (ipykernel)",
   "language": "python",
   "name": "python3"
  },
  "language_info": {
   "codemirror_mode": {
    "name": "ipython",
    "version": 3
   },
   "file_extension": ".py",
   "mimetype": "text/x-python",
   "name": "python",
   "nbconvert_exporter": "python",
   "pygments_lexer": "ipython3",
   "version": "3.9.13"
  }
 },
 "nbformat": 4,
 "nbformat_minor": 5
}
