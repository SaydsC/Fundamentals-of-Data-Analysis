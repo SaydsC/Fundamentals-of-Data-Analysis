{
 "cells": [
  {
   "cell_type": "markdown",
   "id": "ef0a4fd3",
   "metadata": {},
   "source": [
    "## Topic 2: Randomness\n",
    "\n",
    "****\n",
    "\n",
    "### Exercise 1\n",
    "\n",
    "****\n",
    "\n",
    "#### It is somewhat interesting that (5 * 4 * 3 * 2 * 1) perfectly divides (10 * 9 * 8 * 7 * 6) - there's no remainder.\n",
    "#### If we only wanted exactly four heads as opposed to five, the equivalent calculation would be (10 * 9 * 8 * 7) / (4 * 3 * 2 * 1).\n",
    "#### Does that evenly divide too? What is the formula in general?\n",
    "#### Does it always come out as a positive whole number?\n",
    "\n",
    "****\n",
    "\n",
    "This question uses the principles of Binomial Distribution and how to use it to apply the probability of a success or failure of an outcome in a survey or experiment. In this topic we looked at the probability of getting a head or tail in a coin toss. Having previously studied Probability I recognised the application of Pascal's Triangle and the n choose k method. Pascals's Triangle shows us how many ways heads and tails can combine and therefore the probability of any combination.[Introduction to Probability Theory, Hoel Port Stone 1971]\n",
    "$$ \\frac{n!}{k!(n-k)!} $$\n",
    "- where n is the total number of coin tosses\n",
    "- k is the number we want\n",
    "- ! factorial where 5! is 5 * 4 * 3 * 2 * 1 as in question above\n",
    "\n",
    "Therefore all these combinations will divide evenly per the formula above and it will always be a positive whole number as positive binomial distribution with two possible outcomes.\n",
    "\n",
    "Once we understand the factorial concept we can look at how we divide so that I can standover my answer. Take the following example\n",
    "\n",
    "$$ \\frac{8!}{4!} $$\n",
    "\n",
    "First expand out the factorial and cancel out the numerators and denominators\n",
    "\n",
    "$$ \\frac{8*7*6*5*4*3*2*1}{4*3*2*1} $$\n",
    "\n",
    "This leaves the numerators 8 * 7 * 6 * 5, which when multiplied out gives a whole positive number of 1680."
   ]
  },
  {
   "cell_type": "code",
   "execution_count": 2,
   "id": "25b5e32e",
   "metadata": {},
   "outputs": [
    {
     "name": "stdout",
     "output_type": "stream",
     "text": [
      "1680.0\n"
     ]
    }
   ],
   "source": [
    "# write a short program to show factorial division\n",
    "import numpy as np\n",
    "\n",
    "n=8\n",
    "m=4\n",
    "x=np.prod([i for i in range(1,n+1)])\n",
    "y=np.prod([i for i in range(1,m+1)])\n",
    "print(x/y)"
   ]
  },
  {
   "cell_type": "markdown",
   "id": "e6c1bc05",
   "metadata": {},
   "source": [
    "### Exercise 2\n",
    "\n",
    "****\n",
    "\n",
    "#### Note that there are the same number of ways to get 4 tails as there is to get 4 heads. Explain why this is.\n",
    "\n",
    "****\n",
    "\n",
    "In statistics, the binomial theorem of probability formula is generally used to determine the probability of the number of successes of an event. The mathematical expression of the binomial formula is given below.[https://pages.stat.wisc.edu/~ane/st371/notes/chap3_by6.pdf]\n",
    "\n",
    "\\begin{align} &P\\left( X=x \\right)={}^{n}{{C}_{x}}{{p}^{x}}{{q}^{n-x}} \\\\ &P\\left( X=x \\right)={}^{n}{{C}_{x}}{{p}^{x}}{{\\left( 1-p \\right)}^{n-x}} \\\\ \\end{align}\n",
    "\n",
    "Here, x is the number of successes, n is the total number, C defines combination, p is the probability of success, and q is the probability of failure.\n",
    "\n",
    "For our question n=10, x=4, p=1/2 and q=n-x=6\n",
    "\n",
    "Therefore the probability of getting exactly 4 tails in total 10 tosses is\n",
    "\n",
    "$$ =^{10}C_4(1/2)^4(1/2)^{10-4} $$\n",
    "\n",
    "$$ =\\frac{10\\times9\\times8\\times7}{4!} * \\frac{1}{2^4} * \\frac{1}{2^6} $$\n",
    "\n",
    "$$ =\\frac{5040}{24} * \\frac{1}{16} * \\frac {1}{64} $$\n",
    "\n",
    "$$ =\\frac{105}{512} $$\n",
    "\n",
    "$$ =20.5\\% $$\n",
    "\n",
    "As n remains at 10 for ten tosses and if we get 4 successes be it a head or a tail we then get 6 failures so we are using the same variables in the above calculation therefore we have the same number of ways to get 4 heads as we do 4 tails.\n",
    "\n"
   ]
  }
 ],
 "metadata": {
  "kernelspec": {
   "display_name": "Python 3 (ipykernel)",
   "language": "python",
   "name": "python3"
  },
  "language_info": {
   "codemirror_mode": {
    "name": "ipython",
    "version": 3
   },
   "file_extension": ".py",
   "mimetype": "text/x-python",
   "name": "python",
   "nbconvert_exporter": "python",
   "pygments_lexer": "ipython3",
   "version": "3.9.13"
  }
 },
 "nbformat": 4,
 "nbformat_minor": 5
}
