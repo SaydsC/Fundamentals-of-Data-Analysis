{
 "cells": [
  {
   "cell_type": "markdown",
   "id": "65d66d13",
   "metadata": {},
   "source": [
    "## Topic 5: Data Cleansing\n",
    "\n",
    "****\n",
    "\n",
    "### Exercise 1\n",
    "\n",
    "****\n",
    "\n",
    "#### Write a Python function to remove all non-alphanumeric characters from a string.\n",
    "****"
   ]
  },
  {
   "cell_type": "code",
   "execution_count": 41,
   "id": "a523c2ab",
   "metadata": {},
   "outputs": [
    {
     "data": {
      "text/plain": [
       "'one2thr'"
      ]
     },
     "execution_count": 41,
     "metadata": {},
     "output_type": "execute_result"
    }
   ],
   "source": [
    "#import the re function\n",
    "\n",
    "import re\n",
    "\n",
    "# then create a string that contains a mix of characters\n",
    "\n",
    "exerstr = 'one $2!@ thr££'\n",
    "\n",
    "# remove all the non-alphanumeric characters\n",
    "# using re.sub() function - it returns a string where all matching occurences of a specified pattern \n",
    "# are replaced by a sub string\n",
    "\n",
    "alphastr = re.sub(r'[\\W_]', '', exerstr) #\\W matches a character which is not a word character www.docs.python.org\n",
    "alphastr"
   ]
  },
  {
   "cell_type": "markdown",
   "id": "6f67b1dc",
   "metadata": {},
   "source": [
    "### Exercise 2\n",
    "\n",
    "****\n",
    "\n",
    "#### Adapt the above code to capitalise the first letter of the iris species, using regular expressions.\n",
    "*****"
   ]
  },
  {
   "cell_type": "code",
   "execution_count": 40,
   "id": "9f0ed5a2",
   "metadata": {},
   "outputs": [
    {
     "ename": "TypeError",
     "evalue": "sub() missing 1 required positional argument: 'string'",
     "output_type": "error",
     "traceback": [
      "\u001b[1;31m---------------------------------------------------------------------------\u001b[0m",
      "\u001b[1;31mTypeError\u001b[0m                                 Traceback (most recent call last)",
      "Cell \u001b[1;32mIn [40], line 14\u001b[0m\n\u001b[0;32m     12\u001b[0m \u001b[38;5;28;01mdef\u001b[39;00m \u001b[38;5;21mcap\u001b[39m(match):\n\u001b[0;32m     13\u001b[0m     \u001b[38;5;28;01mreturn\u001b[39;00m (match\u001b[38;5;241m.\u001b[39mgroup()\u001b[38;5;241m.\u001b[39mcapitalise())\n\u001b[1;32m---> 14\u001b[0m upper \u001b[38;5;241m=\u001b[39m \u001b[43mre\u001b[49m\u001b[38;5;241;43m.\u001b[39;49m\u001b[43msub\u001b[49m\u001b[43m(\u001b[49m\u001b[43mcap\u001b[49m\u001b[43m,\u001b[49m\u001b[43m \u001b[49m\u001b[43mlower\u001b[49m\u001b[43m)\u001b[49m\n\u001b[0;32m     15\u001b[0m upper\n",
      "\u001b[1;31mTypeError\u001b[0m: sub() missing 1 required positional argument: 'string'"
     ]
    }
   ],
   "source": [
    "# from lecture notebook on this topic\n",
    "\n",
    "import urllib.request\n",
    "import re\n",
    "\n",
    "url = r'https://archive.ics.uci.edu/ml/machine-learning-databases/iris/iris.data'\n",
    "\n",
    "iris = [line.decode('utf-8').strip() for line in urllib.request.urlopen(url)]\n",
    "strip_iris = re.compile(r'([0-9]\\.[0-9]),([0-9]\\.[0-9]),([0-9]\\.[0-9]),([0-9]\\.[0-9]),Iris-([a-z]+)')\n",
    "lower = [strip_iris.sub(r'\\5,\\4,\\3,\\2,\\1', line) for line in iris if line]\n",
    "\n",
    "def cap(match):\n",
    "    return (match.group().capitalise())\n",
    "upper = re.sub(cap, lower)\n",
    "upper\n",
    "\n"
   ]
  },
  {
   "cell_type": "code",
   "execution_count": null,
   "id": "098c3e54",
   "metadata": {},
   "outputs": [],
   "source": []
  }
 ],
 "metadata": {
  "kernelspec": {
   "display_name": "Python 3 (ipykernel)",
   "language": "python",
   "name": "python3"
  },
  "language_info": {
   "codemirror_mode": {
    "name": "ipython",
    "version": 3
   },
   "file_extension": ".py",
   "mimetype": "text/x-python",
   "name": "python",
   "nbconvert_exporter": "python",
   "pygments_lexer": "ipython3",
   "version": "3.9.13"
  }
 },
 "nbformat": 4,
 "nbformat_minor": 5
}
