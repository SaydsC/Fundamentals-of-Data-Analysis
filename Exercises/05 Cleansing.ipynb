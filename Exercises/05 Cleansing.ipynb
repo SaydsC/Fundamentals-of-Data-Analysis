{
 "cells": [
  {
   "cell_type": "markdown",
   "id": "65d66d13",
   "metadata": {},
   "source": [
    "## Topic 5: Data Cleansing\n",
    "\n",
    "****\n",
    "\n",
    "### Exercise 1\n",
    "\n",
    "****\n",
    "\n",
    "#### Write a Python function to remove all non-alphanumeric characters from a string.\n",
    "****"
   ]
  },
  {
   "cell_type": "code",
   "execution_count": 41,
   "id": "a523c2ab",
   "metadata": {},
   "outputs": [
    {
     "data": {
      "text/plain": [
       "'one2thr'"
      ]
     },
     "execution_count": 41,
     "metadata": {},
     "output_type": "execute_result"
    }
   ],
   "source": [
    "#import the re function\n",
    "\n",
    "import re\n",
    "\n",
    "# then create a string that contains a mix of characters\n",
    "\n",
    "exerstr = 'one $2!@ thr££'\n",
    "\n",
    "# remove all the non-alphanumeric characters\n",
    "# using re.sub() function - it returns a string where all matching occurences of a specified pattern \n",
    "# are replaced by a sub string\n",
    "\n",
    "alphastr = re.sub(r'[\\W_]', '', exerstr) #\\W matches a character which is not a word character www.docs.python.org\n",
    "alphastr"
   ]
  },
  {
   "cell_type": "markdown",
   "id": "6f67b1dc",
   "metadata": {},
   "source": [
    "### Exercise 2\n",
    "\n",
    "****\n",
    "\n",
    "#### Adapt the above code to capitalise the first letter of the iris species, using regular expressions.\n",
    "*****"
   ]
  },
  {
   "cell_type": "code",
   "execution_count": 52,
   "id": "9f0ed5a2",
   "metadata": {},
   "outputs": [
    {
     "ename": "TypeError",
     "evalue": "expected string or bytes-like object",
     "output_type": "error",
     "traceback": [
      "\u001b[1;31m---------------------------------------------------------------------------\u001b[0m",
      "\u001b[1;31mTypeError\u001b[0m                                 Traceback (most recent call last)",
      "Cell \u001b[1;32mIn [52], line 17\u001b[0m\n\u001b[0;32m     14\u001b[0m \u001b[38;5;28;01mdef\u001b[39;00m \u001b[38;5;21mconvert_upper\u001b[39m(m):\n\u001b[0;32m     15\u001b[0m     \u001b[38;5;28;01mreturn\u001b[39;00m m\u001b[38;5;241m.\u001b[39mgroup(\u001b[38;5;241m1\u001b[39m) \u001b[38;5;241m+\u001b[39m m\u001b[38;5;241m.\u001b[39mgroup(\u001b[38;5;241m2\u001b[39m)\u001b[38;5;241m.\u001b[39mupper()\n\u001b[1;32m---> 17\u001b[0m caps \u001b[38;5;241m=\u001b[39m \u001b[43mre\u001b[49m\u001b[38;5;241;43m.\u001b[39;49m\u001b[43msub\u001b[49m\u001b[43m(\u001b[49m\u001b[38;5;124;43mr\u001b[39;49m\u001b[38;5;124;43m'\u001b[39;49m\u001b[38;5;124;43m(^|\u001b[39;49m\u001b[38;5;124;43m\\\u001b[39;49m\u001b[38;5;124;43ms),(\u001b[39;49m\u001b[38;5;124;43m\\\u001b[39;49m\u001b[38;5;124;43mS)\u001b[39;49m\u001b[38;5;124;43m'\u001b[39;49m\u001b[43m,\u001b[49m\u001b[43m \u001b[49m\u001b[43mconvert_upper\u001b[49m\u001b[43m,\u001b[49m\u001b[43m \u001b[49m\u001b[43ms\u001b[49m\u001b[43m)\u001b[49m\n\u001b[0;32m     19\u001b[0m caps\n",
      "File \u001b[1;32m~\\anaconda3\\lib\\re.py:210\u001b[0m, in \u001b[0;36msub\u001b[1;34m(pattern, repl, string, count, flags)\u001b[0m\n\u001b[0;32m    203\u001b[0m \u001b[38;5;28;01mdef\u001b[39;00m \u001b[38;5;21msub\u001b[39m(pattern, repl, string, count\u001b[38;5;241m=\u001b[39m\u001b[38;5;241m0\u001b[39m, flags\u001b[38;5;241m=\u001b[39m\u001b[38;5;241m0\u001b[39m):\n\u001b[0;32m    204\u001b[0m     \u001b[38;5;124;03m\"\"\"Return the string obtained by replacing the leftmost\u001b[39;00m\n\u001b[0;32m    205\u001b[0m \u001b[38;5;124;03m    non-overlapping occurrences of the pattern in string by the\u001b[39;00m\n\u001b[0;32m    206\u001b[0m \u001b[38;5;124;03m    replacement repl.  repl can be either a string or a callable;\u001b[39;00m\n\u001b[0;32m    207\u001b[0m \u001b[38;5;124;03m    if a string, backslash escapes in it are processed.  If it is\u001b[39;00m\n\u001b[0;32m    208\u001b[0m \u001b[38;5;124;03m    a callable, it's passed the Match object and must return\u001b[39;00m\n\u001b[0;32m    209\u001b[0m \u001b[38;5;124;03m    a replacement string to be used.\"\"\"\u001b[39;00m\n\u001b[1;32m--> 210\u001b[0m     \u001b[38;5;28;01mreturn\u001b[39;00m \u001b[43m_compile\u001b[49m\u001b[43m(\u001b[49m\u001b[43mpattern\u001b[49m\u001b[43m,\u001b[49m\u001b[43m \u001b[49m\u001b[43mflags\u001b[49m\u001b[43m)\u001b[49m\u001b[38;5;241;43m.\u001b[39;49m\u001b[43msub\u001b[49m\u001b[43m(\u001b[49m\u001b[43mrepl\u001b[49m\u001b[43m,\u001b[49m\u001b[43m \u001b[49m\u001b[43mstring\u001b[49m\u001b[43m,\u001b[49m\u001b[43m \u001b[49m\u001b[43mcount\u001b[49m\u001b[43m)\u001b[49m\n",
      "\u001b[1;31mTypeError\u001b[0m: expected string or bytes-like object"
     ]
    }
   ],
   "source": [
    "# from lecture notebook on this topic\n",
    "\n",
    "import urllib.request\n",
    "\n",
    "url = r'https://archive.ics.uci.edu/ml/machine-learning-databases/iris/iris.data'\n",
    "\n",
    "iris = [line.decode('utf-8').strip() for line in urllib.request.urlopen(url)]\n",
    "strip_iris = re.compile(r'([0-9]\\.[0-9]),([0-9]\\.[0-9]),([0-9]\\.[0-9]),([0-9]\\.[0-9]),Iris-([a-z]+)')\n",
    "s = [strip_iris.sub(r'\\5,\\4,\\3,\\2,\\1', line) for line in iris if line]\n",
    "\n",
    "# now to amend the code to capitalise the first letter of the iris species\n",
    "\n",
    "import re\n",
    "def convert_upper(m):\n",
    "    return m.group(1) + m.group(2).upper()\n",
    "\n",
    "caps = re.sub(r'(^|\\s),(\\S)', convert_upper, s)\n",
    "\n",
    "caps    "
   ]
  }
 ],
 "metadata": {
  "kernelspec": {
   "display_name": "Python 3 (ipykernel)",
   "language": "python",
   "name": "python3"
  },
  "language_info": {
   "codemirror_mode": {
    "name": "ipython",
    "version": 3
   },
   "file_extension": ".py",
   "mimetype": "text/x-python",
   "name": "python",
   "nbconvert_exporter": "python",
   "pygments_lexer": "ipython3",
   "version": "3.9.13"
  }
 },
 "nbformat": 4,
 "nbformat_minor": 5
}
